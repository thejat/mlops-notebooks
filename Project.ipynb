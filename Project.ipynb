{
 "cells": [
  {
   "cell_type": "markdown",
   "metadata": {},
   "source": [
    "# MLOps: Project Instructions\n",
    "\n",
    "## Aim\n",
    "\n",
    "The project component of this course allows you to explore a technology that assists in model deployment/tracking/management/versioning/portability/reliability/scale etc, either directly or indirectly, and asks you to report your experience working with that technology (or multiple technologies)."
   ]
  },
  {
   "cell_type": "markdown",
   "metadata": {},
   "source": [
    "## Project Outcomes\n",
    "\n",
    "#### In Class Presentation\n",
    "\n",
    "During the lecture session as shown in the syllabus page, each team will provide a walk-through (discussing highlights/demo) of their project and their learnings from the process.\n",
    "\n",
    "#### Report and Code\n",
    "\n",
    "Each team should upload a zip of all deliverables to Blackboard before the deadline. The deliverables are as follows:\n",
    "\n",
    " - Project Report: In at most 8 pages (12 point, single column; you can have an appendix for supplementary material that may or may not be checked), you should explain your  project in sufficient technical depth.\n",
    " - Code and data: Code associated with the project (e.g., Jupyter notebooks, py files, requirements.txt Dockerfiles etc), a small sample of the data/inputs/outputs (if needed), and all steps necessary to replicate the project should be provided along with/in the report. \n",
    "\n",
    "All external material/sources (code/idea/theory/insights) used should be cited prominently without failure. Use of pre-trained models, databases, web servers, front-end frameworks, visualization tools etc for your project is allowed and encouraged (explicit consideration of copyrighted material and licenses should be made). This project cannot be used as part of any other course or requirement, and neither can another course project be used as part of this course.\n",
    "\n"
   ]
  },
  {
   "cell_type": "markdown",
   "metadata": {},
   "source": [
    "## Grading Rubric\n",
    "\n",
    "Projects will be graded based on the **maturity** shown in handling the technology and the insights drawn in the report. The reports should be very clearly written and presented, and will be evaluated based on the correctness, content and clarity (equal weights):\n",
    "\n",
    " - Correctness will be assessed based on the correct application of a technology, valid software setup and discussion of choices, technical correctness and the assumptions laid out.\n",
    " - Content will be assessed based on the contributions made in the project (given group size) and project depth (e.g., why this aspect of ML deployment, why is this problem important, what did you do, clean visualizations and interesting conclusions, insights, clear discussion of methodology followed). You should try to demonstrate your understanding of the relevant topics and their use in your non-trivial project.\n",
    " - Clarity will be assessed based on the language quality, layout and structure of the report, the readability of figures/tables, adequacy of the references cited,  the capability of the team in explaining ideas in a clear and professional manner, and the clarity demonstrated in your discussions with the teaching staff etc.\n"
   ]
  },
  {
   "cell_type": "markdown",
   "metadata": {},
   "source": [
    "### Appendix 1: Example Report Components\n",
    "\n",
    "For example, here are some aspects to focus on in your project report:\n",
    "   - what was the goal\n",
    "   - what were the possible solutions\n",
    "   - what were the specific pros and cons from a business point of view before and after executing the project\n",
    "   - actual handling of the technology and demonstration in a dev/staging/prod environment\n",
    "   - documenting the experience\n",
    "   - lessons learned\n",
    "   - code artifacts and/or Jupyter notebooks\n",
    "   - a project plan (a Gantt chart for example) that allocates sufficient tasks for each team member\n",
    "   - ...\n"
   ]
  },
  {
   "cell_type": "markdown",
   "metadata": {},
   "source": [
    "### Appendix 2: Additional Pointers\n",
    "\n",
    "- Keep track of infrastructure costs, especially if you are using services that require having a payment mode on file. If possible, try to use free resources.\n",
    "- Do not train expensive models (deep neural networks) from scratch if it can be avoided. The project should not be centered around model accuracy.\n"
   ]
  }
 ],
 "metadata": {
  "kernelspec": {
   "display_name": "Python 3 (ipykernel)",
   "language": "python",
   "name": "python3"
  },
  "language_info": {
   "codemirror_mode": {
    "name": "ipython",
    "version": 3
   },
   "file_extension": ".py",
   "mimetype": "text/x-python",
   "name": "python",
   "nbconvert_exporter": "python",
   "pygments_lexer": "ipython3",
   "version": "3.8.10"
  }
 },
 "nbformat": 4,
 "nbformat_minor": 4
}
